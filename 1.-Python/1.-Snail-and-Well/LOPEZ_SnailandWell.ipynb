{
 "cells": [
  {
   "cell_type": "code",
   "execution_count": 7,
   "id": "87f0015e-7102-418e-81cb-eabf9ee43d62",
   "metadata": {},
   "outputs": [],
   "source": [
    "well_height = 125\n",
    "daily_distance = 30\n",
    "nightly_distance = -20\n",
    "snail_position = 0"
   ]
  },
  {
   "cell_type": "code",
   "execution_count": 8,
   "id": "9d9547f1-f3f3-4db4-9abe-6d2b4879770f",
   "metadata": {},
   "outputs": [],
   "source": [
    "days = 0"
   ]
  },
  {
   "cell_type": "code",
   "execution_count": 10,
   "id": "a6efd4e0-0af2-499a-b8b8-6da82b199d1c",
   "metadata": {},
   "outputs": [],
   "source": [
    "while well_height > snail_position:\n",
    "    snail_position = snail_position + daily_distance \n",
    "    days += 1\n",
    "    if well_height > snail_position:\n",
    "        snail_position = snail_position + nightly_distance\n",
    "    else:\n",
    "        days_tofreedom = \"The snail took \" + str(days) + \" days to cry 'FREEDOM'!\""
   ]
  },
  {
   "cell_type": "code",
   "execution_count": 11,
   "id": "4e2250d9-8193-4e62-b06b-7a1a78fc5b9b",
   "metadata": {},
   "outputs": [
    {
     "name": "stdout",
     "output_type": "stream",
     "text": [
      "The snail took 11 days to cry 'FREEDOM'!\n"
     ]
    }
   ],
   "source": [
    "print(solution)"
   ]
  },
  {
   "cell_type": "code",
   "execution_count": null,
   "id": "dc0b314c-14ff-4df3-85e8-790899444618",
   "metadata": {},
   "outputs": [],
   "source": []
  }
 ],
 "metadata": {
  "kernelspec": {
   "display_name": "Python 3",
   "language": "python",
   "name": "python3"
  },
  "language_info": {
   "codemirror_mode": {
    "name": "ipython",
    "version": 3
   },
   "file_extension": ".py",
   "mimetype": "text/x-python",
   "name": "python",
   "nbconvert_exporter": "python",
   "pygments_lexer": "ipython3",
   "version": "3.8.2"
  }
 },
 "nbformat": 4,
 "nbformat_minor": 5
}
