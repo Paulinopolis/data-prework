{
 "cells": [
  {
   "cell_type": "code",
   "execution_count": 2,
   "id": "87f0015e-7102-418e-81cb-eabf9ee43d62",
   "metadata": {},
   "outputs": [],
   "source": [
    "well_height=125\n",
    "daily_distance=30\n",
    "nightly_distance=20\n",
    "total_distance=0"
   ]
  },
  {
   "cell_type": "code",
   "execution_count": 3,
   "id": "9d9547f1-f3f3-4db4-9abe-6d2b4879770f",
   "metadata": {},
   "outputs": [],
   "source": [
    "snail_position=daily_distance-nightly_distance"
   ]
  },
  {
   "cell_type": "code",
   "execution_count": 4,
   "id": "e43c46bf-cd60-4311-b655-6c713d374887",
   "metadata": {},
   "outputs": [
    {
     "name": "stdout",
     "output_type": "stream",
     "text": [
      "Snail is still trapped\n"
     ]
    }
   ],
   "source": [
    "print(\"Snail is still trapped\")\n",
    "total_distance += snail_position"
   ]
  },
  {
   "cell_type": "code",
   "execution_count": 5,
   "id": "bdcd0a06-6b5e-429b-a2e2-e4aa3cb4c215",
   "metadata": {},
   "outputs": [
    {
     "name": "stdout",
     "output_type": "stream",
     "text": [
      "Snail is still trapped\n",
      "Snail is still trapped\n",
      "Snail is still trapped\n",
      "Snail is still trapped\n",
      "Snail is still trapped\n",
      "Snail is still trapped\n",
      "Snail is still trapped\n",
      "Snail is still trapped\n",
      "Snail is still trapped\n",
      "Snail is still trapped\n",
      "Snail is still trapped\n",
      "Snail is still trapped\n",
      "The snail thinks:'Freeeedooooom'\n"
     ]
    }
   ],
   "source": [
    "while total_distance < well_height:\n",
    "    print(\"Snail is still trapped\")\n",
    "    total_distance += snail_position\n",
    "\n",
    "print(\"The snail thinks:'Freeeedooooom'\")"
   ]
  },
  {
   "cell_type": "code",
   "execution_count": 6,
   "id": "67911985-5c34-4a1d-8a70-11ba7ea3f807",
   "metadata": {},
   "outputs": [],
   "source": [
    "#It took 13 days to the snail to escape the well\""
   ]
  },
  {
   "cell_type": "code",
   "execution_count": null,
   "id": "a6efd4e0-0af2-499a-b8b8-6da82b199d1c",
   "metadata": {},
   "outputs": [],
   "source": []
  }
 ],
 "metadata": {
  "kernelspec": {
   "display_name": "Python 3",
   "language": "python",
   "name": "python3"
  },
  "language_info": {
   "codemirror_mode": {
    "name": "ipython",
    "version": 3
   },
   "file_extension": ".py",
   "mimetype": "text/x-python",
   "name": "python",
   "nbconvert_exporter": "python",
   "pygments_lexer": "ipython3",
   "version": "3.8.2"
  }
 },
 "nbformat": 4,
 "nbformat_minor": 5
}
