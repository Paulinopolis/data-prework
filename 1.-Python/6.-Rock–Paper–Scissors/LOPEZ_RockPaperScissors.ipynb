{
 "cells": [
  {
   "cell_type": "code",
   "execution_count": 1,
   "id": "ae75a74d-4430-4cf2-a156-41df9db56447",
   "metadata": {},
   "outputs": [],
   "source": [
    "from random import choice"
   ]
  },
  {
   "cell_type": "code",
   "execution_count": 2,
   "id": "a0561023-d650-4550-9a4c-5076e7838767",
   "metadata": {},
   "outputs": [],
   "source": [
    "gestures = ['rock','paper','scissors']"
   ]
  },
  {
   "cell_type": "code",
   "execution_count": 3,
   "id": "948260af-be46-4af0-8288-2c0154f39057",
   "metadata": {},
   "outputs": [
    {
     "name": "stdin",
     "output_type": "stream",
     "text": [
      "Number of rounds (Hint: should be an odd number) >>>    3\n"
     ]
    },
    {
     "name": "stdout",
     "output_type": "stream",
     "text": [
      "Here we go 3  rounds.\n"
     ]
    }
   ],
   "source": [
    "n_rounds = input(\"Number of rounds (Hint: should be an odd number) >>>   \")\n",
    "try:\n",
    "    n_rounds = int(n_rounds)\n",
    "    if n_rounds % 2 == 0:\n",
    "        print(\"I said ODD NUMBER...\")\n",
    "        n_rounds = 0\n",
    "    elif n_rounds > 10:\n",
    "        print(\"Jesus! Read the instructions\")\n",
    "        n_rounds = 0\n",
    "    else:\n",
    "        print(\"Here we go\", int(n_rounds), \" rounds.\")\n",
    "except ValueError:\n",
    "    print(\"To play \", n_rounds, \" we need lot of time\")\n",
    "    n_rounds = 0"
   ]
  },
  {
   "cell_type": "code",
   "execution_count": 4,
   "id": "0dd7032e-05f9-4e62-8982-0d496eb5901e",
   "metadata": {},
   "outputs": [],
   "source": [
    "import math\n",
    "rounds_to_win = math.ceil(n_rounds/2)"
   ]
  },
  {
   "cell_type": "code",
   "execution_count": 5,
   "id": "eade27f7-1b15-4541-bb55-2398f24cf9a6",
   "metadata": {},
   "outputs": [],
   "source": [
    "cpu_score = 0\n",
    "player_score = 0"
   ]
  },
  {
   "cell_type": "code",
   "execution_count": 6,
   "id": "17059304-4757-47d8-b59a-bf3d564e113c",
   "metadata": {},
   "outputs": [],
   "source": [
    "def T800(w):\n",
    "    return choice(w);"
   ]
  },
  {
   "cell_type": "code",
   "execution_count": 8,
   "id": "f43affb1-f677-4672-9c92-eb273602e903",
   "metadata": {},
   "outputs": [],
   "source": [
    "def shand(x):\n",
    "    tadam = 0\n",
    "    while tadam == 0:\n",
    "        tadam = input(\"Think thoroughly \" + str(x) + \" >>>    \")\n",
    "        if tadam in x:\n",
    "            return tadam\n",
    "        else:\n",
    "            print(\"Ce n'est pas la foire!\")\n",
    "            tadam= 0"
   ]
  },
  {
   "cell_type": "code",
   "execution_count": 9,
   "id": "d665cbe3-21ee-4089-ab06-5d3739455163",
   "metadata": {},
   "outputs": [],
   "source": [
    "sheldon = {'rock':['scissors'], 'paper':['rock'], 'scissors':['paper']}\n",
    "### y should be the winning dictionary\n",
    "def winner(y):\n",
    "    outcome = 2\n",
    "    if tadam == lava_thumb:\n",
    "        outcome = 0\n",
    "    elif tadam in y[lava_thumb]:\n",
    "        outcome = 1\n",
    "    return outcome"
   ]
  },
  {
   "cell_type": "code",
   "execution_count": 13,
   "id": "29bb4bb6-8bba-4633-88fc-96d2072bac27",
   "metadata": {},
   "outputs": [],
   "source": [
    "def roundin(z):\n",
    "    resultat = {0:'Tie!',1:'I won.',2:'You won.'}\n",
    "    print('You chose ' + tadam)\n",
    "    print('I chose ' + lava_thumb)\n",
    "    print(resultat[z])"
   ]
  },
  {
   "cell_type": "code",
   "execution_count": 14,
   "id": "cee816a8-6ff7-4a4e-b3a2-74351f1172c8",
   "metadata": {},
   "outputs": [
    {
     "name": "stdin",
     "output_type": "stream",
     "text": [
      "Think thoroughly ['rock', 'paper', 'scissors'] >>>     paper\n"
     ]
    },
    {
     "name": "stdout",
     "output_type": "stream",
     "text": [
      "You chose paper\n",
      "I chose paper\n",
      "Tie!\n"
     ]
    },
    {
     "name": "stdin",
     "output_type": "stream",
     "text": [
      "Think thoroughly ['rock', 'paper', 'scissors'] >>>     scissors\n"
     ]
    },
    {
     "name": "stdout",
     "output_type": "stream",
     "text": [
      "You chose scissors\n",
      "I chose scissors\n",
      "Tie!\n"
     ]
    },
    {
     "name": "stdin",
     "output_type": "stream",
     "text": [
      "Think thoroughly ['rock', 'paper', 'scissors'] >>>     rock\n"
     ]
    },
    {
     "name": "stdout",
     "output_type": "stream",
     "text": [
      "You chose rock\n",
      "I chose scissors\n",
      "You won.\n"
     ]
    }
   ],
   "source": [
    "rounds_done = 0\n",
    "while rounds_done < n_rounds and cpu_score < rounds_to_win and player_score < rounds_to_win:\n",
    "    tadam = shand(gestures)\n",
    "    lava_thumb = T800(gestures)\n",
    "    outcome = winner(sheldon)\n",
    "    roundin(outcome)\n",
    "    rounds_done += 1\n",
    "    if outcome == 1:\n",
    "        cpu_score += 1\n",
    "    elif outcome == 2:\n",
    "        player_score += 1"
   ]
  },
  {
   "cell_type": "code",
   "execution_count": 15,
   "id": "53a1204e-d12e-4bbe-ac50-3bb7ee38ef07",
   "metadata": {},
   "outputs": [
    {
     "name": "stdout",
     "output_type": "stream",
     "text": [
      "You won.\n"
     ]
    }
   ],
   "source": [
    "if player_score >= cpu_score:\n",
    "    print(\"You won.\")\n",
    "elif cpu_score >= player_score:\n",
    "    print(\"Computer wins\")\n",
    "else:\n",
    "    print(\"Tie.\")"
   ]
  },
  {
   "cell_type": "code",
   "execution_count": null,
   "id": "91d97e2a-80b4-414f-9974-2e621e707515",
   "metadata": {},
   "outputs": [],
   "source": []
  }
 ],
 "metadata": {
  "kernelspec": {
   "display_name": "Python 3",
   "language": "python",
   "name": "python3"
  },
  "language_info": {
   "codemirror_mode": {
    "name": "ipython",
    "version": 3
   },
   "file_extension": ".py",
   "mimetype": "text/x-python",
   "name": "python",
   "nbconvert_exporter": "python",
   "pygments_lexer": "ipython3",
   "version": "3.8.2"
  }
 },
 "nbformat": 4,
 "nbformat_minor": 5
}
