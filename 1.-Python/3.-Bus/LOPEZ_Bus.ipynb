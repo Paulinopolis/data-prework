{
 "cells": [
  {
   "cell_type": "code",
   "execution_count": 1,
   "id": "1eb07a87-ec74-458c-b737-cc80140a955d",
   "metadata": {},
   "outputs": [],
   "source": [
    "# Variables\n",
    "stops = [(10, 0), (4, 1), (3, 5), (3, 4), (5, 1), (1, 5), (5, 8), (4, 6), (2, 3)]\n",
    "movement = []\n",
    "occupation = []"
   ]
  },
  {
   "cell_type": "code",
   "execution_count": 2,
   "id": "a3bc67e8-9213-405c-b201-31fd5dc9873f",
   "metadata": {},
   "outputs": [
    {
     "name": "stdout",
     "output_type": "stream",
     "text": [
      "The total number of bus stops is 9\n"
     ]
    }
   ],
   "source": [
    "total_stops = len(stops)\n",
    "print(\"The total number of bus stops is\", total_stops)"
   ]
  },
  {
   "cell_type": "code",
   "execution_count": 3,
   "id": "96ccc150-553a-483c-b10e-8bab0c131ddf",
   "metadata": {},
   "outputs": [],
   "source": [
    "for up,down in stops:\n",
    "    movement.append(up - down)\n",
    "\n",
    "for i in range(total_stops):\n",
    "    occupation.append(sum(movement[0:i+1]))"
   ]
  },
  {
   "cell_type": "code",
   "execution_count": 4,
   "id": "54e397f1-567f-47f8-ab35-9787861a1dba",
   "metadata": {},
   "outputs": [
    {
     "name": "stdout",
     "output_type": "stream",
     "text": [
      "The maximum occupation in the bus is 14\n"
     ]
    }
   ],
   "source": [
    "print(\"The maximum occupation in the bus is\", max(occupation))"
   ]
  },
  {
   "cell_type": "code",
   "execution_count": 5,
   "id": "c291ff32-f110-440c-8ea4-79c443842c8a",
   "metadata": {},
   "outputs": [
    {
     "name": "stdout",
     "output_type": "stream",
     "text": [
      "The average occupation is 9.33\n",
      "The standard deviation of the occupation is 3.39\n"
     ]
    }
   ],
   "source": [
    "print(\"The average occupation is\", round((sum(occupation)/total_stops), 2))\n",
    "import statistics\n",
    "print(\"The standard deviation of the occupation is\", round(statistics.stdev(occupation), 2))"
   ]
  },
  {
   "cell_type": "code",
   "execution_count": null,
   "id": "15081e29-2280-4ec3-bbe8-d23b9a413ded",
   "metadata": {},
   "outputs": [],
   "source": []
  }
 ],
 "metadata": {
  "kernelspec": {
   "display_name": "Python 3",
   "language": "python",
   "name": "python3"
  },
  "language_info": {
   "codemirror_mode": {
    "name": "ipython",
    "version": 3
   },
   "file_extension": ".py",
   "mimetype": "text/x-python",
   "name": "python",
   "nbconvert_exporter": "python",
   "pygments_lexer": "ipython3",
   "version": "3.8.2"
  }
 },
 "nbformat": 4,
 "nbformat_minor": 5
}
