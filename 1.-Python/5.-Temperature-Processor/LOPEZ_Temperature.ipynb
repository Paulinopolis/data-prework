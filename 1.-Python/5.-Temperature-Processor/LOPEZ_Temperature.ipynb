{
 "cells": [
  {
   "cell_type": "code",
   "execution_count": 1,
   "id": "d477f62b-4973-4565-bcbf-3820c1aeea9f",
   "metadata": {},
   "outputs": [],
   "source": [
    "temperatures_C = [33, 66, 65, 0, 59, 60, 62, 64, 70, 76, 80, 81, 80, 83, 90, 79, 61, 53, 50, 49, 53, 48, 45, 39]"
   ]
  },
  {
   "cell_type": "code",
   "execution_count": 2,
   "id": "8bfb031b-51f9-495d-ab37-a6735e561222",
   "metadata": {},
   "outputs": [],
   "source": [
    "coldest = min(temperatures_C)"
   ]
  },
  {
   "cell_type": "code",
   "execution_count": 3,
   "id": "614ea46e-f55d-4aaa-b6fc-fb53762e35c4",
   "metadata": {},
   "outputs": [],
   "source": [
    "hottest = max(temperatures_C)"
   ]
  },
  {
   "cell_type": "code",
   "execution_count": 4,
   "id": "98d1806f-bcd6-4e0e-971f-82a773bbd40c",
   "metadata": {},
   "outputs": [],
   "source": [
    "hot_ones = [t for t in temperatures_C if t >= 70]"
   ]
  },
  {
   "cell_type": "code",
   "execution_count": 5,
   "id": "5dd13a60-b44f-4bef-8daf-8280148c9875",
   "metadata": {},
   "outputs": [],
   "source": [
    "from statistics import mean\n",
    "average = round(mean(temperatures_C), 2)"
   ]
  },
  {
   "cell_type": "code",
   "execution_count": 6,
   "id": "86e43480-37af-4155-a857-b1e9b08408a2",
   "metadata": {},
   "outputs": [
    {
     "name": "stdout",
     "output_type": "stream",
     "text": [
      "[33, 66, 65, 62.0, 59, 60, 62, 64, 70, 76, 80, 81, 80, 83, 90, 79, 61, 53, 50, 49, 53, 48, 45, 39]\n"
     ]
    }
   ],
   "source": [
    "temperatures_C[3] = (temperatures_C[2] + temperatures_C[4])/2\n",
    "print(temperatures_C)"
   ]
  },
  {
   "cell_type": "code",
   "execution_count": 7,
   "id": "8957cecb-f0b1-478f-a9e2-9a0254482ee2",
   "metadata": {},
   "outputs": [
    {
     "name": "stdout",
     "output_type": "stream",
     "text": [
      "[91, 151, 149, 144, 138, 140, 144, 147, 158, 169, 176, 178, 176, 181, 194, 174, 142, 127, 122, 120, 127, 118, 113, 102]\n"
     ]
    }
   ],
   "source": [
    "temperatures_F = [round(x*1.8 + 32) for x in temperatures_C]\n",
    "print(temperatures_F)"
   ]
  },
  {
   "cell_type": "code",
   "execution_count": 8,
   "id": "23503a0e-f1c5-4356-8189-45dd77608cea",
   "metadata": {},
   "outputs": [
    {
     "name": "stdout",
     "output_type": "stream",
     "text": [
      "Veeeeery hot. Peligro!\n"
     ]
    }
   ],
   "source": [
    "if len(hot_ones) >= 4 or m >= 80 in temperatures_C or average >= 65:\n",
    "    print(\"Veeeeery hot. Peligro!\")\n",
    "else:\n",
    "    print(\"The cooling system is pretty cool :)\")"
   ]
  },
  {
   "cell_type": "code",
   "execution_count": null,
   "id": "89505b9f-5c32-4ecc-a391-728024a21f27",
   "metadata": {},
   "outputs": [],
   "source": []
  }
 ],
 "metadata": {
  "kernelspec": {
   "display_name": "Python 3",
   "language": "python",
   "name": "python3"
  },
  "language_info": {
   "codemirror_mode": {
    "name": "ipython",
    "version": 3
   },
   "file_extension": ".py",
   "mimetype": "text/x-python",
   "name": "python",
   "nbconvert_exporter": "python",
   "pygments_lexer": "ipython3",
   "version": "3.8.2"
  }
 },
 "nbformat": 4,
 "nbformat_minor": 5
}
