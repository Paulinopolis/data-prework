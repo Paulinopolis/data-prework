{
 "cells": [
  {
   "cell_type": "code",
   "execution_count": 1,
   "id": "e93d9ae5-e8ac-4e43-85af-016541c2d58c",
   "metadata": {},
   "outputs": [],
   "source": [
    "gandalf = [10, 11, 13, 30, 22, 11, 10, 33, 22, 22]\n",
    "saruman = [23, 66, 12, 43, 12, 10, 44, 23, 12, 17]"
   ]
  },
  {
   "cell_type": "code",
   "execution_count": 2,
   "id": "a9b6de82-30ef-43c8-b74b-e2e2765df4e6",
   "metadata": {},
   "outputs": [],
   "source": [
    "spells=len(gandalf)\n",
    "gandalf_wins=0"
   ]
  },
  {
   "cell_type": "code",
   "execution_count": 3,
   "id": "71d71470-7e7d-48d0-8fa4-a60ffa58d211",
   "metadata": {},
   "outputs": [],
   "source": [
    "saruman_wins=0"
   ]
  },
  {
   "cell_type": "code",
   "execution_count": 4,
   "id": "b35ac006-0ab2-453a-9138-69f50122a1f7",
   "metadata": {},
   "outputs": [],
   "source": [
    "for i in range(spells):\n",
    "    if gandalf[i] > saruman[i]:\n",
    "        gandalf_wins += 1\n",
    "    elif gandalf[i] < saruman[i]:\n",
    "        saruman_wins += 1"
   ]
  },
  {
   "cell_type": "code",
   "execution_count": 5,
   "id": "f6485c17-c55b-48e5-bc77-3acdfc8f44c4",
   "metadata": {},
   "outputs": [
    {
     "name": "stdout",
     "output_type": "stream",
     "text": [
      "Gandalf wins\n"
     ]
    }
   ],
   "source": [
    "if gandalf_wins > saruman_wins:\n",
    "    print(\"Gandalf wins\")\n",
    "elif gandalf_wins < saruman_wins:\n",
    "    print(\"Saruman wins\")\n",
    "else: \n",
    "    print(\"Tie \")"
   ]
  },
  {
   "cell_type": "code",
   "execution_count": 6,
   "id": "67324f73-b93e-448c-8f5f-e7d52a9f12a5",
   "metadata": {},
   "outputs": [],
   "source": [
    "\n",
    "POWER = {\n",
    "    'Fireball': 50, \n",
    "    'Lightning bolt': 40, \n",
    "    'Magic arrow': 10, \n",
    "    'Black Tentacles': 25, \n",
    "    'Contagion': 45\n",
    "}\n",
    "\n",
    "gandalf = ['Fireball', 'Lightning bolt', 'Lightning bolt', 'Magic arrow', 'Fireball', \n",
    "           'Magic arrow', 'Lightning bolt', 'Fireball', 'Fireball', 'Fireball']\n",
    "saruman = ['Contagion', 'Contagion', 'Black Tentacles', 'Fireball', 'Black Tentacles', \n",
    "           'Lightning bolt', 'Magic arrow', 'Contagion', 'Magic arrow', 'Magic arrow']\n",
    "spells = 0"
   ]
  },
  {
   "cell_type": "code",
   "execution_count": 7,
   "id": "2636625b-62fe-4f72-9b09-6c0c60c02615",
   "metadata": {},
   "outputs": [],
   "source": [
    "gandalf_wins = 0\n",
    "saruman_wins = 0"
   ]
  },
  {
   "cell_type": "code",
   "execution_count": 8,
   "id": "7fa291c9-cd3a-401b-afde-1f215b02d2ee",
   "metadata": {},
   "outputs": [],
   "source": [
    "\n",
    "gandalf_power = []\n",
    "for i in gandalf:\n",
    "    gandalf_power.append(POWER[i])\n",
    "saruman_power = []\n",
    "for i in saruman:\n",
    "    saruman_power.append(POWER[i])"
   ]
  },
  {
   "cell_type": "code",
   "execution_count": 9,
   "id": "86815575-b26b-4b2e-936f-dbc2524a37e9",
   "metadata": {},
   "outputs": [
    {
     "name": "stdout",
     "output_type": "stream",
     "text": [
      "Gandalf wins\n",
      "The average power of Gandalf is 39, and Saruman's average power is 30.5\n",
      "The standard deviation of powers of Gandalf's power is 15.95, while Saruman's is 16.41\n"
     ]
    }
   ],
   "source": [
    "while gandalf_wins != 3 and saruman_wins != 3:    \n",
    "    if gandalf_power[spells] > saruman_power[spells]:\n",
    "        gandalf_wins += 1\n",
    "        while gandalf_wins in [1,2]:\n",
    "            spells += 1\n",
    "            if gandalf_power[spells] > saruman_power[spells]:\n",
    "                gandalf_wins += 1\n",
    "            else:\n",
    "                gandalf_wins = 0\n",
    "    elif gandalf_power[spells] < saruman_power[spells]:\n",
    "        saruman_wins += 1\n",
    "        while saruman_wins in [1,2]:\n",
    "            spells += 1\n",
    "            if gandalf_power[spells] < saruman_power[spells]:\n",
    "                saruman_wins += 1\n",
    "            else:\n",
    "                saruman_wins = 0        \n",
    "\n",
    "if gandalf_wins > saruman_wins:\n",
    "    print(\"Gandalf wins\")\n",
    "else:\n",
    "    print(\"Saruman wins\")\n",
    "\n",
    "from statistics import mean\n",
    "print(f\"The average power of Gandalf is {round(mean(gandalf_power), 2)}, and Saruman's average power is {round(mean(saruman_power), 2)}\")\n",
    "\n",
    "from statistics import stdev\n",
    "print(f\"The standard deviation of powers of Gandalf's power is {round(stdev(gandalf_power), 2)}, while Saruman's is {round(stdev(saruman_power), 2)}\")\n",
    "textest = 'urray'"
   ]
  },
  {
   "cell_type": "code",
   "execution_count": null,
   "id": "9c795764-d60c-4a57-89bc-b0c0736d5030",
   "metadata": {},
   "outputs": [],
   "source": []
  }
 ],
 "metadata": {
  "kernelspec": {
   "display_name": "Python 3",
   "language": "python",
   "name": "python3"
  },
  "language_info": {
   "codemirror_mode": {
    "name": "ipython",
    "version": 3
   },
   "file_extension": ".py",
   "mimetype": "text/x-python",
   "name": "python",
   "nbconvert_exporter": "python",
   "pygments_lexer": "ipython3",
   "version": "3.8.2"
  }
 },
 "nbformat": 4,
 "nbformat_minor": 5
}
