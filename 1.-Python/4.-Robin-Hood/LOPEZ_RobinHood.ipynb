{
 "cells": [
  {
   "cell_type": "code",
   "execution_count": 1,
   "id": "42aaadf0-b446-42b7-9f82-225d5e5ae352",
   "metadata": {},
   "outputs": [],
   "source": [
    "points = [(4, 5), (-0, 2), (4, 7), (1, -3), (3, -2), (4, 5), (3, 2), (5, 7), (-5, 7), (2, 2), (-4, 5), (0, -2),\n",
    "          (-4, 7), (-1, 3), (-3, 2), (-4, -5), (-3, 2), (5, 7), (5, 7), (2, 2), (9, 9), (-8, -9)]"
   ]
  },
  {
   "cell_type": "code",
   "execution_count": 2,
   "id": "f5d80e4a-7a26-4370-8b47-85c7c8279f02",
   "metadata": {},
   "outputs": [
    {
     "name": "stdout",
     "output_type": "stream",
     "text": [
      "{(-3, 2), (4, 5), (5, 7), (2, 2)}\n"
     ]
    }
   ],
   "source": [
    "hitsameplace = []\n",
    "for i in range(len(points)):\n",
    "    if points[i] in points[i+1:]:\n",
    "        hitsameplace.append(points[i])\n",
    "print(set(hitsameplace))"
   ]
  },
  {
   "cell_type": "code",
   "execution_count": 3,
   "id": "7219c988-ff9d-4aec-91d2-5836a8a91082",
   "metadata": {},
   "outputs": [
    {
     "name": "stdout",
     "output_type": "stream",
     "text": [
      "There is a total of 10 arrows in quadrant 1, 6 arrows in quadrant 2, 2 arrows in quadrant 3 and 2 arrows in quadrant 4.\n",
      "0\n"
     ]
    }
   ],
   "source": [
    "q1 = []\n",
    "q2 = []\n",
    "q3 = []\n",
    "q4 = []\n",
    "count = 0\n",
    "while count < len(points):\n",
    "    for hey,you in points[count:count+1]:\n",
    "        if hey > 0 and you > 0:\n",
    "            q1.append(points[count])\n",
    "        elif hey > 0 and you < 0:\n",
    "            q4.append(points[count])\n",
    "        elif hey < 0 and you > 0:\n",
    "            q2.append(points[count])\n",
    "        elif hey < 0 and you < 0:\n",
    "            q3.append(points[count])\n",
    "    count += 1\n",
    "solution = \"There is a total of \" + str(len(q1)) + \" arrows in quadrant 1, \" + str(len(q2)) + \" arrows in quadrant 2, \" + str(len(q3)) + \" arrows in quadrant 3 and \" + str(len(q4)) + \" arrows in quadrant 4.\"\n",
    "print(solution)\n",
    "print(points[7:].index((5,7)))"
   ]
  },
  {
   "cell_type": "code",
   "execution_count": 4,
   "id": "269c6c5e-3c4b-48b3-b509-8308342ce285",
   "metadata": {},
   "outputs": [
    {
     "name": "stdout",
     "output_type": "stream",
     "text": [
      "[6.4, 2.0, 8.06, 3.16, 3.61, 6.4, 3.61, 8.6, 8.6, 2.83, 6.4, 2.0, 8.06, 3.16, 3.61, 6.4, 3.61, 8.6, 8.6, 2.83, 12.73, 12.04]\n",
      "The closest point(s) to the center is(are): [(0, 2), (0, -2)]\n",
      "The distance of the closest point to the center is: 2.0\n"
     ]
    }
   ],
   "source": [
    "##defining distance from center\n",
    "\n",
    "import math\n",
    "def ramayana(shot):\n",
    "    hey = shot[0]\n",
    "    you = shot[1]\n",
    "    distance = math.sqrt(hey**2 + you**2)\n",
    "    return distance\n",
    "\n",
    "##creating list of distances\n",
    "\n",
    "distances = []\n",
    "for i in points:\n",
    "    distances.append(round(ramayana(i), 2))\n",
    "print(distances)\n",
    "##creating list of closest points\n",
    "\n",
    "counter = 0\n",
    "marksman = []\n",
    "for i in distances:\n",
    "    if i == min(distances):\n",
    "         marksman.append(points[counter])\n",
    "    counter += 1    \n",
    "\n",
    "##printing solution\n",
    "\n",
    "print(\"The closest point(s) to the center is(are):\", marksman)\n",
    "print(\"The distance of the closest point to the center is:\", min(distances))"
   ]
  },
  {
   "cell_type": "code",
   "execution_count": 5,
   "id": "02bdc3ab-ed29-4db1-af0e-f1e48d2cfbfa",
   "metadata": {},
   "outputs": [
    {
     "name": "stdout",
     "output_type": "stream",
     "text": [
      "2 failed\n"
     ]
    }
   ],
   "source": [
    "radius = 9\n",
    "print(sum(1 for i in distances if i > radius), \"failed\")"
   ]
  },
  {
   "cell_type": "code",
   "execution_count": 6,
   "id": "c44e00d4-7e0c-49d4-8757-b55ddb035a52",
   "metadata": {},
   "outputs": [
    {
     "name": "stdout",
     "output_type": "stream",
     "text": [
      "A single arrow hit stripe  0\n",
      "2  arrows hit stripe  2\n",
      "2  arrows hit stripe  3\n",
      "6  arrows hit stripe  4\n",
      "4  arrows hit stripe  7\n",
      "6  arrows hit stripe  9\n"
     ]
    }
   ],
   "source": [
    "counter = 0\n",
    "marksman = 1\n",
    "while counter <= radius:\n",
    "    for i in distances:\n",
    "        if i <= counter and i > counter-1:\n",
    "            marksman += 1\n",
    "    if marksman == 1:\n",
    "        print(\"A single arrow hit stripe \", counter)\n",
    "    elif marksman > 1:\n",
    "        print(marksman, \" arrows hit stripe \", counter)\n",
    "    marksman = 0\n",
    "    counter += 1"
   ]
  },
  {
   "cell_type": "code",
   "execution_count": null,
   "id": "4ee6999b-0014-4998-b0f5-565f56a6417d",
   "metadata": {},
   "outputs": [],
   "source": []
  }
 ],
 "metadata": {
  "kernelspec": {
   "display_name": "Python 3",
   "language": "python",
   "name": "python3"
  },
  "language_info": {
   "codemirror_mode": {
    "name": "ipython",
    "version": 3
   },
   "file_extension": ".py",
   "mimetype": "text/x-python",
   "name": "python",
   "nbconvert_exporter": "python",
   "pygments_lexer": "ipython3",
   "version": "3.8.2"
  }
 },
 "nbformat": 4,
 "nbformat_minor": 5
}
